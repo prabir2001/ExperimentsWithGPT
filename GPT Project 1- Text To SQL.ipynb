{
 "cells": [
  {
   "cell_type": "markdown",
   "id": "65e5abcf",
   "metadata": {},
   "source": [
    "## NATURAL LANGUAGE TO SQL "
   ]
  },
  {
   "cell_type": "markdown",
   "id": "fbaf4ab0",
   "metadata": {},
   "source": [
    "In this project we will create a simple tool for people to use English text to query a given set of data. \n",
    "ChatGPT API call will translate from simple English to SQL which will then query the data and provide the resultset.\n",
    "\n",
    "Example:\n",
    "\n",
    "    User Input : Total Sales per month\n",
    "    GPT generated SQL : SELECT MONTH_ID, SUM(SALES) AS TOTAL_SALES FROM Sales GROUP BY MONTH_ID"
   ]
  },
  {
   "cell_type": "code",
   "execution_count": 1,
   "id": "3575f639",
   "metadata": {},
   "outputs": [
    {
     "name": "stdout",
     "output_type": "stream",
     "text": [
      "Requirement already satisfied: openai in /Users/prabir/opt/anaconda3/lib/python3.8/site-packages (0.27.6)\n",
      "Requirement already satisfied: requests>=2.20 in /Users/prabir/opt/anaconda3/lib/python3.8/site-packages (from openai) (2.25.1)\n",
      "Requirement already satisfied: aiohttp in /Users/prabir/opt/anaconda3/lib/python3.8/site-packages (from openai) (3.8.4)\n",
      "Requirement already satisfied: tqdm in /Users/prabir/opt/anaconda3/lib/python3.8/site-packages (from openai) (4.59.0)\n",
      "Requirement already satisfied: urllib3<1.27,>=1.21.1 in /Users/prabir/opt/anaconda3/lib/python3.8/site-packages (from requests>=2.20->openai) (1.26.4)\n",
      "Requirement already satisfied: certifi>=2017.4.17 in /Users/prabir/opt/anaconda3/lib/python3.8/site-packages (from requests>=2.20->openai) (2020.12.5)\n",
      "Requirement already satisfied: chardet<5,>=3.0.2 in /Users/prabir/opt/anaconda3/lib/python3.8/site-packages (from requests>=2.20->openai) (4.0.0)\n",
      "Requirement already satisfied: idna<3,>=2.5 in /Users/prabir/opt/anaconda3/lib/python3.8/site-packages (from requests>=2.20->openai) (2.10)\n",
      "Requirement already satisfied: charset-normalizer<4.0,>=2.0 in /Users/prabir/opt/anaconda3/lib/python3.8/site-packages (from aiohttp->openai) (3.1.0)\n",
      "Requirement already satisfied: frozenlist>=1.1.1 in /Users/prabir/opt/anaconda3/lib/python3.8/site-packages (from aiohttp->openai) (1.3.3)\n",
      "Requirement already satisfied: yarl<2.0,>=1.0 in /Users/prabir/opt/anaconda3/lib/python3.8/site-packages (from aiohttp->openai) (1.9.2)\n",
      "Requirement already satisfied: async-timeout<5.0,>=4.0.0a3 in /Users/prabir/opt/anaconda3/lib/python3.8/site-packages (from aiohttp->openai) (4.0.2)\n",
      "Requirement already satisfied: attrs>=17.3.0 in /Users/prabir/opt/anaconda3/lib/python3.8/site-packages (from aiohttp->openai) (20.3.0)\n",
      "Requirement already satisfied: multidict<7.0,>=4.5 in /Users/prabir/opt/anaconda3/lib/python3.8/site-packages (from aiohttp->openai) (6.0.4)\n",
      "Requirement already satisfied: aiosignal>=1.1.2 in /Users/prabir/opt/anaconda3/lib/python3.8/site-packages (from aiohttp->openai) (1.3.1)\n"
     ]
    }
   ],
   "source": [
    "#Install OpenAI if not installed already. This should be run only once.\n",
    "!pip install openai"
   ]
  },
  {
   "cell_type": "code",
   "execution_count": 2,
   "id": "be4854c3",
   "metadata": {},
   "outputs": [],
   "source": [
    "# Import all necessary packagesß\n",
    "import openai\n",
    "import os"
   ]
  },
  {
   "cell_type": "code",
   "execution_count": 3,
   "id": "808e45d7",
   "metadata": {},
   "outputs": [],
   "source": [
    "#Set the OPENAI API Key to an environment variable. \n",
    "#NOTE: Make sure not to share this key on public. Delete this cell after successful run. \n",
    "#I have removed key below after the run\n",
    "OPENAI_API_KEY = 'sk-...'\n",
    "os.environ[\"OPENAI_API_KEY\"] = OPENAI_API_KEY"
   ]
  },
  {
   "cell_type": "code",
   "execution_count": 4,
   "id": "a57ab1e8",
   "metadata": {},
   "outputs": [],
   "source": [
    " openai.api_key = os.getenv('OPENAI_API_KEY')\n"
   ]
  },
  {
   "cell_type": "code",
   "execution_count": 5,
   "id": "155c1860",
   "metadata": {},
   "outputs": [],
   "source": [
    "#import pandas to work with dataframes\n",
    "import pandas as pd"
   ]
  },
  {
   "cell_type": "code",
   "execution_count": 6,
   "id": "9c298465",
   "metadata": {},
   "outputs": [],
   "source": [
    "#Download a publically available data for this demo project and load the data csv file to a dataframe\n",
    "#Data source : https://www.kaggle.com/datasets/kyanyoga/sample-sales-data\n",
    "df = pd.read_csv('data/sales_data_sample.csv')"
   ]
  },
  {
   "cell_type": "code",
   "execution_count": 7,
   "id": "0da6101d",
   "metadata": {},
   "outputs": [
    {
     "data": {
      "text/html": [
       "<div>\n",
       "<style scoped>\n",
       "    .dataframe tbody tr th:only-of-type {\n",
       "        vertical-align: middle;\n",
       "    }\n",
       "\n",
       "    .dataframe tbody tr th {\n",
       "        vertical-align: top;\n",
       "    }\n",
       "\n",
       "    .dataframe thead th {\n",
       "        text-align: right;\n",
       "    }\n",
       "</style>\n",
       "<table border=\"1\" class=\"dataframe\">\n",
       "  <thead>\n",
       "    <tr style=\"text-align: right;\">\n",
       "      <th></th>\n",
       "      <th>ORDERNUMBER</th>\n",
       "      <th>QUANTITYORDERED</th>\n",
       "      <th>PRICEEACH</th>\n",
       "      <th>SALES</th>\n",
       "      <th>ORDERDATE</th>\n",
       "      <th>QTR_ID</th>\n",
       "      <th>MONTH_ID</th>\n",
       "      <th>YEAR_ID</th>\n",
       "      <th>PRODUCTLINE</th>\n",
       "      <th>PHONE</th>\n",
       "      <th>ADDRESSLINE1</th>\n",
       "      <th>CITY</th>\n",
       "      <th>STATE</th>\n",
       "      <th>POSTALCODE</th>\n",
       "      <th>COUNTRY</th>\n",
       "      <th>CONTACTLASTNAME</th>\n",
       "      <th>CONTACTFIRSTNAME</th>\n",
       "    </tr>\n",
       "  </thead>\n",
       "  <tbody>\n",
       "    <tr>\n",
       "      <th>0</th>\n",
       "      <td>10107</td>\n",
       "      <td>30</td>\n",
       "      <td>95.70</td>\n",
       "      <td>2871.00</td>\n",
       "      <td>2/24/2003 0:00</td>\n",
       "      <td>1</td>\n",
       "      <td>2</td>\n",
       "      <td>2003</td>\n",
       "      <td>Motorcycles</td>\n",
       "      <td>2125557818</td>\n",
       "      <td>897 Long Airport Avenue</td>\n",
       "      <td>NYC</td>\n",
       "      <td>NY</td>\n",
       "      <td>10022</td>\n",
       "      <td>USA</td>\n",
       "      <td>Yu</td>\n",
       "      <td>Kwai</td>\n",
       "    </tr>\n",
       "    <tr>\n",
       "      <th>1</th>\n",
       "      <td>10121</td>\n",
       "      <td>34</td>\n",
       "      <td>81.35</td>\n",
       "      <td>2765.90</td>\n",
       "      <td>5/7/2003 0:00</td>\n",
       "      <td>2</td>\n",
       "      <td>5</td>\n",
       "      <td>2003</td>\n",
       "      <td>Motorcycles</td>\n",
       "      <td>26.47.1555</td>\n",
       "      <td>59 rue de l'Abbaye</td>\n",
       "      <td>Reims</td>\n",
       "      <td>NaN</td>\n",
       "      <td>51100</td>\n",
       "      <td>France</td>\n",
       "      <td>Henriot</td>\n",
       "      <td>Paul</td>\n",
       "    </tr>\n",
       "    <tr>\n",
       "      <th>2</th>\n",
       "      <td>10134</td>\n",
       "      <td>41</td>\n",
       "      <td>94.74</td>\n",
       "      <td>3884.34</td>\n",
       "      <td>7/1/2003 0:00</td>\n",
       "      <td>3</td>\n",
       "      <td>7</td>\n",
       "      <td>2003</td>\n",
       "      <td>Motorcycles</td>\n",
       "      <td>+33 1 46 62 7555</td>\n",
       "      <td>27 rue du Colonel Pierre Avia</td>\n",
       "      <td>Paris</td>\n",
       "      <td>NaN</td>\n",
       "      <td>75508</td>\n",
       "      <td>France</td>\n",
       "      <td>Da Cunha</td>\n",
       "      <td>Daniel</td>\n",
       "    </tr>\n",
       "    <tr>\n",
       "      <th>3</th>\n",
       "      <td>10145</td>\n",
       "      <td>45</td>\n",
       "      <td>83.26</td>\n",
       "      <td>3746.70</td>\n",
       "      <td>8/25/2003 0:00</td>\n",
       "      <td>3</td>\n",
       "      <td>8</td>\n",
       "      <td>2003</td>\n",
       "      <td>Motorcycles</td>\n",
       "      <td>6265557265</td>\n",
       "      <td>78934 Hillside Dr.</td>\n",
       "      <td>Pasadena</td>\n",
       "      <td>CA</td>\n",
       "      <td>90003</td>\n",
       "      <td>USA</td>\n",
       "      <td>Young</td>\n",
       "      <td>Julie</td>\n",
       "    </tr>\n",
       "    <tr>\n",
       "      <th>4</th>\n",
       "      <td>10159</td>\n",
       "      <td>49</td>\n",
       "      <td>100.00</td>\n",
       "      <td>5205.27</td>\n",
       "      <td>10/10/2003 0:00</td>\n",
       "      <td>4</td>\n",
       "      <td>10</td>\n",
       "      <td>2003</td>\n",
       "      <td>Motorcycles</td>\n",
       "      <td>6505551386</td>\n",
       "      <td>7734 Strong St.</td>\n",
       "      <td>San Francisco</td>\n",
       "      <td>CA</td>\n",
       "      <td>NaN</td>\n",
       "      <td>USA</td>\n",
       "      <td>Brown</td>\n",
       "      <td>Julie</td>\n",
       "    </tr>\n",
       "  </tbody>\n",
       "</table>\n",
       "</div>"
      ],
      "text/plain": [
       "   ORDERNUMBER  QUANTITYORDERED  PRICEEACH    SALES        ORDERDATE  QTR_ID  \\\n",
       "0        10107               30      95.70  2871.00   2/24/2003 0:00       1   \n",
       "1        10121               34      81.35  2765.90    5/7/2003 0:00       2   \n",
       "2        10134               41      94.74  3884.34    7/1/2003 0:00       3   \n",
       "3        10145               45      83.26  3746.70   8/25/2003 0:00       3   \n",
       "4        10159               49     100.00  5205.27  10/10/2003 0:00       4   \n",
       "\n",
       "   MONTH_ID  YEAR_ID  PRODUCTLINE             PHONE  \\\n",
       "0         2     2003  Motorcycles        2125557818   \n",
       "1         5     2003  Motorcycles        26.47.1555   \n",
       "2         7     2003  Motorcycles  +33 1 46 62 7555   \n",
       "3         8     2003  Motorcycles        6265557265   \n",
       "4        10     2003  Motorcycles        6505551386   \n",
       "\n",
       "                    ADDRESSLINE1           CITY STATE POSTALCODE COUNTRY  \\\n",
       "0        897 Long Airport Avenue            NYC    NY      10022     USA   \n",
       "1             59 rue de l'Abbaye          Reims   NaN      51100  France   \n",
       "2  27 rue du Colonel Pierre Avia          Paris   NaN      75508  France   \n",
       "3             78934 Hillside Dr.       Pasadena    CA      90003     USA   \n",
       "4                7734 Strong St.  San Francisco    CA        NaN     USA   \n",
       "\n",
       "  CONTACTLASTNAME CONTACTFIRSTNAME  \n",
       "0              Yu             Kwai  \n",
       "1         Henriot             Paul  \n",
       "2        Da Cunha           Daniel  \n",
       "3           Young            Julie  \n",
       "4           Brown            Julie  "
      ]
     },
     "execution_count": 7,
     "metadata": {},
     "output_type": "execute_result"
    }
   ],
   "source": [
    "#check data\n",
    "df.head()"
   ]
  },
  {
   "cell_type": "code",
   "execution_count": 8,
   "id": "d5a857be",
   "metadata": {},
   "outputs": [
    {
     "name": "stdout",
     "output_type": "stream",
     "text": [
      "<class 'pandas.core.frame.DataFrame'>\n",
      "RangeIndex: 2823 entries, 0 to 2822\n",
      "Data columns (total 17 columns):\n",
      " #   Column            Non-Null Count  Dtype  \n",
      "---  ------            --------------  -----  \n",
      " 0   ORDERNUMBER       2823 non-null   int64  \n",
      " 1   QUANTITYORDERED   2823 non-null   int64  \n",
      " 2   PRICEEACH         2823 non-null   float64\n",
      " 3   SALES             2823 non-null   float64\n",
      " 4   ORDERDATE         2823 non-null   object \n",
      " 5   QTR_ID            2823 non-null   int64  \n",
      " 6   MONTH_ID          2823 non-null   int64  \n",
      " 7   YEAR_ID           2823 non-null   int64  \n",
      " 8   PRODUCTLINE       2823 non-null   object \n",
      " 9   PHONE             2823 non-null   object \n",
      " 10  ADDRESSLINE1      2823 non-null   object \n",
      " 11  CITY              2823 non-null   object \n",
      " 12  STATE             1337 non-null   object \n",
      " 13  POSTALCODE        2747 non-null   object \n",
      " 14  COUNTRY           2823 non-null   object \n",
      " 15  CONTACTLASTNAME   2823 non-null   object \n",
      " 16  CONTACTFIRSTNAME  2823 non-null   object \n",
      "dtypes: float64(2), int64(5), object(10)\n",
      "memory usage: 375.1+ KB\n"
     ]
    }
   ],
   "source": [
    "#basic info about the data\n",
    "df.info()"
   ]
  },
  {
   "cell_type": "code",
   "execution_count": 9,
   "id": "230b6e7f",
   "metadata": {},
   "outputs": [
    {
     "data": {
      "text/plain": [
       "MONTH_ID\n",
       "1      785874.44\n",
       "2      810441.90\n",
       "3      754501.39\n",
       "4      669390.96\n",
       "5      923972.56\n",
       "6      454756.78\n",
       "7      514875.97\n",
       "8      659310.57\n",
       "9      584724.27\n",
       "10    1121215.22\n",
       "11    2118885.67\n",
       "12     634679.12\n",
       "Name: SALES, dtype: float64"
      ]
     },
     "execution_count": 9,
     "metadata": {},
     "output_type": "execute_result"
    }
   ],
   "source": [
    "# We can use Pandas to Query this dataframe\n",
    "#Example - Sum of Sales by Month \n",
    "df.groupby(\"MONTH_ID\").sum()['SALES']"
   ]
  },
  {
   "cell_type": "markdown",
   "id": "b8519d81",
   "metadata": {},
   "source": [
    "### SQL Database"
   ]
  },
  {
   "cell_type": "code",
   "execution_count": 10,
   "id": "2fb5f414",
   "metadata": {},
   "outputs": [],
   "source": [
    "from sqlalchemy import create_engine\n",
    "from sqlalchemy import text"
   ]
  },
  {
   "cell_type": "code",
   "execution_count": 11,
   "id": "f9713a09",
   "metadata": {},
   "outputs": [],
   "source": [
    "#Push data into a table called 'Sales'\n",
    "db = create_engine('sqlite:///:memory:', echo=False)\n",
    "data = df.to_sql(name='Sales',con=db)"
   ]
  },
  {
   "cell_type": "markdown",
   "id": "a18cd213",
   "metadata": {},
   "source": [
    "## Connecting to SQL Database:"
   ]
  },
  {
   "cell_type": "code",
   "execution_count": 12,
   "id": "6f1baa51",
   "metadata": {},
   "outputs": [],
   "source": [
    "#crate a connection to the DB and check if it fetches result when queried\n",
    "with db.connect() as conn:\n",
    "    result = conn.execute(text(\"Select ORDERNUMBER, SALES from Sales ORDER BY SALES DESC LIMIT 1\"))"
   ]
  },
  {
   "cell_type": "code",
   "execution_count": 13,
   "id": "be6a8fc4",
   "metadata": {},
   "outputs": [
    {
     "data": {
      "text/plain": [
       "[(10407, 14082.8)]"
      ]
     },
     "execution_count": 13,
     "metadata": {},
     "output_type": "execute_result"
    }
   ],
   "source": [
    "result.all()"
   ]
  },
  {
   "cell_type": "markdown",
   "id": "2df57122",
   "metadata": {},
   "source": [
    "###  GPT needs to know the table schema before we can query it."
   ]
  },
  {
   "cell_type": "code",
   "execution_count": 14,
   "id": "2facd7fb",
   "metadata": {},
   "outputs": [],
   "source": [
    "#The below function provides the table schema (based on the dataframe column names). \n",
    "#This will act as first part of the promt we provide to GPT\n",
    "\n",
    "def create_table_definition_prompt(df):\n",
    "    prompt = ''' We have a table with below columns:\n",
    "\n",
    "            Sales({})\n",
    "\n",
    "            '''.format(\",\".join(str(x) for x in df.columns))\n",
    "    \n",
    "    return prompt"
   ]
  },
  {
   "cell_type": "code",
   "execution_count": 15,
   "id": "2ff78a4a",
   "metadata": {},
   "outputs": [
    {
     "name": "stdout",
     "output_type": "stream",
     "text": [
      " We have a table with below columns:\n",
      "\n",
      "            Sales(ORDERNUMBER,QUANTITYORDERED,PRICEEACH,SALES,ORDERDATE,QTR_ID,MONTH_ID,YEAR_ID,PRODUCTLINE,PHONE,ADDRESSLINE1,CITY,STATE,POSTALCODE,COUNTRY,CONTACTLASTNAME,CONTACTFIRSTNAME)\n",
      "\n",
      "            \n"
     ]
    }
   ],
   "source": [
    "print(create_table_definition_prompt(df))"
   ]
  },
  {
   "cell_type": "code",
   "execution_count": 16,
   "id": "1d119ab6",
   "metadata": {},
   "outputs": [],
   "source": [
    "#The below function asks user for information to be queried.\n",
    "def prompt_input():\n",
    "    nlp_text = input(\"Enter information you want to query from the table : \\n \")\n",
    "    return nlp_text"
   ]
  },
  {
   "cell_type": "code",
   "execution_count": 17,
   "id": "11368685",
   "metadata": {},
   "outputs": [
    {
     "name": "stdout",
     "output_type": "stream",
     "text": [
      "Enter information you want to query from the table : \n",
      " Total sales by Month\n"
     ]
    }
   ],
   "source": [
    "#User Input : Type in what you want to query from the table\n",
    "nlp_text = prompt_input()"
   ]
  },
  {
   "cell_type": "code",
   "execution_count": 18,
   "id": "99b598c5",
   "metadata": {},
   "outputs": [
    {
     "data": {
      "text/plain": [
       "' We have a table with below columns:\\n\\n            Sales(ORDERNUMBER,QUANTITYORDERED,PRICEEACH,SALES,ORDERDATE,QTR_ID,MONTH_ID,YEAR_ID,PRODUCTLINE,PHONE,ADDRESSLINE1,CITY,STATE,POSTALCODE,COUNTRY,CONTACTLASTNAME,CONTACTFIRSTNAME)\\n\\n            ### A query to answer: Total sales by Month\\nSELECT'"
      ]
     },
     "execution_count": 18,
     "metadata": {},
     "output_type": "execute_result"
    }
   ],
   "source": [
    "#Combine to ceate the complete prompt string that should be fed to GPT.\n",
    "#The first word \"Select\" is provided to enable GPT to start generating the next words in the SQL\n",
    "def combine_prompts(df, query_prompt):\n",
    "    definition = create_table_definition_prompt(df)\n",
    "    query_init_string = f\"### A query to answer: {query_prompt}\\nSELECT\"\n",
    "    return definition+query_init_string\n",
    "    \n",
    "combine_prompts(df, nlp_text)    "
   ]
  },
  {
   "cell_type": "code",
   "execution_count": 19,
   "id": "63625b2c",
   "metadata": {},
   "outputs": [],
   "source": [
    "#Call to OpenAI API to get the generated SQL\n",
    "response = openai.Completion.create(\n",
    "  model=\"text-davinci-003\",\n",
    "  prompt=combine_prompts(df, nlp_text),\n",
    "  temperature=0,\n",
    "  max_tokens=150,\n",
    "  top_p=1.0,\n",
    "  frequency_penalty=0.0,\n",
    "  presence_penalty=0.0,\n",
    "  stop=[\"#\", \";\"]\n",
    ")"
   ]
  },
  {
   "cell_type": "code",
   "execution_count": 20,
   "id": "02cd6179",
   "metadata": {},
   "outputs": [
    {
     "data": {
      "text/plain": [
       "<OpenAIObject text_completion id=cmpl-7MblecaiRg253oqAZX87i60jsX2cl at 0x7fb44879a090> JSON: {\n",
       "  \"choices\": [\n",
       "    {\n",
       "      \"finish_reason\": \"stop\",\n",
       "      \"index\": 0,\n",
       "      \"logprobs\": null,\n",
       "      \"text\": \" MONTH_ID, SUM(SALES)\\nFROM Sales\\nGROUP BY MONTH_ID\"\n",
       "    }\n",
       "  ],\n",
       "  \"created\": 1685622750,\n",
       "  \"id\": \"cmpl-7MblecaiRg253oqAZX87i60jsX2cl\",\n",
       "  \"model\": \"text-davinci-003\",\n",
       "  \"object\": \"text_completion\",\n",
       "  \"usage\": {\n",
       "    \"completion_tokens\": 22,\n",
       "    \"prompt_tokens\": 107,\n",
       "    \"total_tokens\": 129\n",
       "  }\n",
       "}"
      ]
     },
     "execution_count": 20,
     "metadata": {},
     "output_type": "execute_result"
    }
   ],
   "source": [
    "response"
   ]
  },
  {
   "cell_type": "code",
   "execution_count": 21,
   "id": "9238f326",
   "metadata": {},
   "outputs": [],
   "source": [
    "#Capture the generated SQL\n",
    "def handle_response(response):\n",
    "    query = response[\"choices\"][0][\"text\"]\n",
    "    if query.startswith(\" \"):\n",
    "        query = \"Select\"+ query\n",
    "    return query"
   ]
  },
  {
   "cell_type": "code",
   "execution_count": 22,
   "id": "3ba37e27",
   "metadata": {},
   "outputs": [
    {
     "data": {
      "text/plain": [
       "'Select MONTH_ID, SUM(SALES)\\nFROM Sales\\nGROUP BY MONTH_ID'"
      ]
     },
     "execution_count": 22,
     "metadata": {},
     "output_type": "execute_result"
    }
   ],
   "source": [
    "handle_response(response)"
   ]
  },
  {
   "cell_type": "code",
   "execution_count": 23,
   "id": "03d53e4b",
   "metadata": {},
   "outputs": [],
   "source": [
    "#Run the generated query in the database\n",
    "# Running within 'with' block will \n",
    "# 1. create the connection\n",
    "# 2.run the code inside the connection and \n",
    "# 3.then close the connection\n",
    "with db.connect() as conn:\n",
    "    result = conn.execute(text(handle_response(response)))"
   ]
  },
  {
   "cell_type": "code",
   "execution_count": 24,
   "id": "636a5763",
   "metadata": {},
   "outputs": [],
   "source": [
    "#save the result\n",
    "df_result = result.all()"
   ]
  },
  {
   "cell_type": "code",
   "execution_count": 25,
   "id": "6b580341",
   "metadata": {},
   "outputs": [
    {
     "data": {
      "text/plain": [
       "[(1, 785874.4400000008),\n",
       " (2, 810441.9),\n",
       " (3, 754501.3900000001),\n",
       " (4, 669390.9600000003),\n",
       " (5, 923972.56),\n",
       " (6, 454756.77999999985),\n",
       " (7, 514875.9700000001),\n",
       " (8, 659310.5699999998),\n",
       " (9, 584724.2699999999),\n",
       " (10, 1121215.2199999997),\n",
       " (11, 2118885.67),\n",
       " (12, 634679.1199999998)]"
      ]
     },
     "execution_count": 25,
     "metadata": {},
     "output_type": "execute_result"
    }
   ],
   "source": [
    "df_result"
   ]
  },
  {
   "cell_type": "code",
   "execution_count": 26,
   "id": "50fd6531",
   "metadata": {},
   "outputs": [],
   "source": [
    "#save the result in a Pandas dataframe and provide column names for ease of readability\n",
    "df_result = pd.DataFrame(df_result)\n",
    "df_result.columns = ['Month_ID', 'Sum of Sales']"
   ]
  },
  {
   "cell_type": "code",
   "execution_count": 27,
   "id": "f9897274",
   "metadata": {},
   "outputs": [
    {
     "data": {
      "text/html": [
       "<div>\n",
       "<style scoped>\n",
       "    .dataframe tbody tr th:only-of-type {\n",
       "        vertical-align: middle;\n",
       "    }\n",
       "\n",
       "    .dataframe tbody tr th {\n",
       "        vertical-align: top;\n",
       "    }\n",
       "\n",
       "    .dataframe thead th {\n",
       "        text-align: right;\n",
       "    }\n",
       "</style>\n",
       "<table border=\"1\" class=\"dataframe\">\n",
       "  <thead>\n",
       "    <tr style=\"text-align: right;\">\n",
       "      <th></th>\n",
       "      <th>Sum of Sales</th>\n",
       "    </tr>\n",
       "    <tr>\n",
       "      <th>Month_ID</th>\n",
       "      <th></th>\n",
       "    </tr>\n",
       "  </thead>\n",
       "  <tbody>\n",
       "    <tr>\n",
       "      <th>1</th>\n",
       "      <td>785874.44</td>\n",
       "    </tr>\n",
       "    <tr>\n",
       "      <th>2</th>\n",
       "      <td>810441.90</td>\n",
       "    </tr>\n",
       "    <tr>\n",
       "      <th>3</th>\n",
       "      <td>754501.39</td>\n",
       "    </tr>\n",
       "    <tr>\n",
       "      <th>4</th>\n",
       "      <td>669390.96</td>\n",
       "    </tr>\n",
       "    <tr>\n",
       "      <th>5</th>\n",
       "      <td>923972.56</td>\n",
       "    </tr>\n",
       "    <tr>\n",
       "      <th>6</th>\n",
       "      <td>454756.78</td>\n",
       "    </tr>\n",
       "    <tr>\n",
       "      <th>7</th>\n",
       "      <td>514875.97</td>\n",
       "    </tr>\n",
       "    <tr>\n",
       "      <th>8</th>\n",
       "      <td>659310.57</td>\n",
       "    </tr>\n",
       "    <tr>\n",
       "      <th>9</th>\n",
       "      <td>584724.27</td>\n",
       "    </tr>\n",
       "    <tr>\n",
       "      <th>10</th>\n",
       "      <td>1121215.22</td>\n",
       "    </tr>\n",
       "    <tr>\n",
       "      <th>11</th>\n",
       "      <td>2118885.67</td>\n",
       "    </tr>\n",
       "    <tr>\n",
       "      <th>12</th>\n",
       "      <td>634679.12</td>\n",
       "    </tr>\n",
       "  </tbody>\n",
       "</table>\n",
       "</div>"
      ],
      "text/plain": [
       "          Sum of Sales\n",
       "Month_ID              \n",
       "1            785874.44\n",
       "2            810441.90\n",
       "3            754501.39\n",
       "4            669390.96\n",
       "5            923972.56\n",
       "6            454756.78\n",
       "7            514875.97\n",
       "8            659310.57\n",
       "9            584724.27\n",
       "10          1121215.22\n",
       "11          2118885.67\n",
       "12           634679.12"
      ]
     },
     "execution_count": 27,
     "metadata": {},
     "output_type": "execute_result"
    }
   ],
   "source": [
    "#Display results\n",
    "df_result.set_index('Month_ID')"
   ]
  }
 ],
 "metadata": {
  "kernelspec": {
   "display_name": "Python 3",
   "language": "python",
   "name": "python3"
  },
  "language_info": {
   "codemirror_mode": {
    "name": "ipython",
    "version": 3
   },
   "file_extension": ".py",
   "mimetype": "text/x-python",
   "name": "python",
   "nbconvert_exporter": "python",
   "pygments_lexer": "ipython3",
   "version": "3.8.8"
  }
 },
 "nbformat": 4,
 "nbformat_minor": 5
}
